{
  "nbformat": 4,
  "nbformat_minor": 0,
  "metadata": {
    "colab": {
      "provenance": []
    },
    "kernelspec": {
      "name": "python3",
      "display_name": "Python 3"
    },
    "language_info": {
      "name": "python"
    }
  },
  "cells": [
    {
      "cell_type": "code",
      "execution_count": 100,
      "metadata": {
        "id": "iKBHmRTJkVIN"
      },
      "outputs": [],
      "source": [
        "from datetime import date\n",
        "\n",
        "class Account():\n",
        "  def __init__(self, numID):\n",
        "    self.number = numID\n",
        "    self.account_type()\n",
        "\n",
        "  def account_type(self):\n",
        "    if str(self.number).startswith(\"1\"):\n",
        "      self.type = \"current\"\n",
        "    elif str(self.number).startswith(\"2\"):\n",
        "      self.type = \"saving\"\n",
        "\n",
        "  def interest_rate(self):\n",
        "    if self.type == \"current\":\n",
        "      self.interest = 0 #per year\n",
        "    elif self.type == \"saving\":\n",
        "      self.interest = 5\n",
        "    return self.interest\n",
        "\n",
        "  def interest_accrued(self, balance): #input balance\n",
        "    self.balance = balance\n",
        "\n",
        "    current_date = date.today()\n",
        "    init_date = date(current_date.year,1,1)\n",
        "    numDay = abs(current_date-init_date).days/365\n",
        "\n",
        "    self.interest_rate()\n",
        "\n",
        "    self.totalInterest = self.balance * numDay * self.interest / 100\n",
        "\n",
        "    return self.balance+self.totalInterest\n",
        "\n"
      ]
    },
    {
      "cell_type": "code",
      "source": [
        "myAcc = Account(2024)\n",
        "myAcc.number"
      ],
      "metadata": {
        "colab": {
          "base_uri": "https://localhost:8080/"
        },
        "id": "WwJSrwUzp3C0",
        "outputId": "e2a621cc-fcd4-4619-9cdb-347a3a58fa0f"
      },
      "execution_count": 101,
      "outputs": [
        {
          "output_type": "execute_result",
          "data": {
            "text/plain": [
              "2024"
            ]
          },
          "metadata": {},
          "execution_count": 101
        }
      ]
    },
    {
      "cell_type": "code",
      "source": [
        "myAcc.type"
      ],
      "metadata": {
        "colab": {
          "base_uri": "https://localhost:8080/",
          "height": 34
        },
        "id": "qJdVFkb6qBIq",
        "outputId": "1a3f1bcb-2ee7-4981-93e1-53dedde438f0"
      },
      "execution_count": 102,
      "outputs": [
        {
          "output_type": "execute_result",
          "data": {
            "text/plain": [
              "'saving'"
            ],
            "application/vnd.google.colaboratory.intrinsic+json": {
              "type": "string"
            }
          },
          "metadata": {},
          "execution_count": 102
        }
      ]
    },
    {
      "cell_type": "code",
      "source": [
        "myAcc.interest_rate()"
      ],
      "metadata": {
        "colab": {
          "base_uri": "https://localhost:8080/"
        },
        "id": "-TrXRAArqwIp",
        "outputId": "79815ccd-7d3b-406a-9867-ea5f7a8a58be"
      },
      "execution_count": 103,
      "outputs": [
        {
          "output_type": "execute_result",
          "data": {
            "text/plain": [
              "5"
            ]
          },
          "metadata": {},
          "execution_count": 103
        }
      ]
    },
    {
      "cell_type": "code",
      "source": [
        "myAcc.interest_accrued(2000)"
      ],
      "metadata": {
        "colab": {
          "base_uri": "https://localhost:8080/"
        },
        "id": "IpI0eSUuu90v",
        "outputId": "930849e4-77dc-4552-9250-a12f4b38fa4c"
      },
      "execution_count": 104,
      "outputs": [
        {
          "output_type": "execute_result",
          "data": {
            "text/plain": [
              "2003.2876712328766"
            ]
          },
          "metadata": {},
          "execution_count": 104
        }
      ]
    },
    {
      "cell_type": "code",
      "source": [
        "myAcc.totalInterest"
      ],
      "metadata": {
        "colab": {
          "base_uri": "https://localhost:8080/"
        },
        "id": "gkxfFiZkvwYK",
        "outputId": "236a7e5c-1502-4385-a6eb-52ff220b69bd"
      },
      "execution_count": 105,
      "outputs": [
        {
          "output_type": "execute_result",
          "data": {
            "text/plain": [
              "3.287671232876712"
            ]
          },
          "metadata": {},
          "execution_count": 105
        }
      ]
    },
    {
      "cell_type": "markdown",
      "source": [
        "___"
      ],
      "metadata": {
        "id": "ijgORqBIsah0"
      }
    },
    {
      "cell_type": "markdown",
      "source": [
        "__[Review] datetime__"
      ],
      "metadata": {
        "id": "TOt3nGCjscRA"
      }
    },
    {
      "cell_type": "code",
      "source": [
        "from datetime import date\n",
        "current_date = date.today()"
      ],
      "metadata": {
        "id": "K8OIc_mhrYxx"
      },
      "execution_count": 36,
      "outputs": []
    },
    {
      "cell_type": "code",
      "source": [
        "print(current_date)\n",
        "print(type(current_date))"
      ],
      "metadata": {
        "colab": {
          "base_uri": "https://localhost:8080/"
        },
        "id": "ndymIfYyspj1",
        "outputId": "ea366b17-d1e6-4c8e-acaa-15504613035b"
      },
      "execution_count": 39,
      "outputs": [
        {
          "output_type": "stream",
          "name": "stdout",
          "text": [
            "2024-01-13\n",
            "<class 'datetime.date'>\n"
          ]
        }
      ]
    },
    {
      "cell_type": "code",
      "source": [
        "init_date = date(current_date.year,1,1)"
      ],
      "metadata": {
        "id": "SDbb2QtzsuTa"
      },
      "execution_count": 43,
      "outputs": []
    },
    {
      "cell_type": "code",
      "source": [
        "print(init_date)\n",
        "print(type(init_date))"
      ],
      "metadata": {
        "colab": {
          "base_uri": "https://localhost:8080/"
        },
        "id": "Lx61IRLps-1l",
        "outputId": "1c4f005e-ae81-4e10-8485-d9b0af88e419"
      },
      "execution_count": 44,
      "outputs": [
        {
          "output_type": "stream",
          "name": "stdout",
          "text": [
            "2024-01-01\n",
            "<class 'datetime.date'>\n"
          ]
        }
      ]
    },
    {
      "cell_type": "code",
      "source": [
        "numDay = abs(current_date-init_date).days/365 #in year format"
      ],
      "metadata": {
        "id": "ytwW_sQttBTF"
      },
      "execution_count": 51,
      "outputs": []
    },
    {
      "cell_type": "code",
      "source": [
        "print(numDay)\n",
        "print(type(numDay))"
      ],
      "metadata": {
        "colab": {
          "base_uri": "https://localhost:8080/"
        },
        "id": "mC70B3cNtQKl",
        "outputId": "91db8d1a-8052-4757-b035-d5e539410e1a"
      },
      "execution_count": 52,
      "outputs": [
        {
          "output_type": "stream",
          "name": "stdout",
          "text": [
            "0.03287671232876712\n",
            "<class 'float'>\n"
          ]
        }
      ]
    },
    {
      "cell_type": "code",
      "source": [],
      "metadata": {
        "id": "--KYSAGQtVBE"
      },
      "execution_count": null,
      "outputs": []
    }
  ]
}