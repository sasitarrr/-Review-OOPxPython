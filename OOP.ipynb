{
  "cells": [
    {
      "cell_type": "code",
      "execution_count": null,
      "id": "10055587",
      "metadata": {
        "id": "10055587"
      },
      "outputs": [],
      "source": [
        "from datetime import date\n",
        "\n",
        "#Object : Variables + Methods\n",
        "\n",
        "class Account():\n",
        "  def __init__(self, numID):\n",
        "    self.number = numID\n",
        "    self.account_type()\n",
        "\n",
        "  def account_type(self):\n",
        "    if str(self.number).startswith(\"1\"):\n",
        "      self.type = \"current\"\n",
        "    elif str(self.number).startswith('2'):\n",
        "      self.type = \"saving\"\n",
        "\n",
        "  def interest_rate(self):\n",
        "    if self.type == \"current\":\n",
        "      self.interest = 0\n",
        "    elif self.type == \"saving\":\n",
        "      self.interest = 5 #per year\n",
        "    return self.interest\n",
        "\n",
        "  def interest_accrued(self):\n",
        "    self.interest_rate()\n",
        "    self.balance=1000\n",
        "\n",
        "    current_date = date.today()\n",
        "    beginning_date = date(current_date.year,1,1)\n",
        "\n",
        "    self.totalInterest = self.balance*(abs(current_date-beginning_date).days/365)*self.interest/100\n",
        "\n",
        "    return self.totalInterest+self.balance\n"
      ]
    },
    {
      "cell_type": "code",
      "source": [
        "acc = Account(2500)"
      ],
      "metadata": {
        "id": "1hjmlAAJl6AX"
      },
      "id": "1hjmlAAJl6AX",
      "execution_count": null,
      "outputs": []
    },
    {
      "cell_type": "code",
      "source": [
        "acc.number"
      ],
      "metadata": {
        "colab": {
          "base_uri": "https://localhost:8080/"
        },
        "id": "bRM7Ptq3mCCR",
        "outputId": "fe354f1e-773d-490f-81a4-616af2b5043b"
      },
      "id": "bRM7Ptq3mCCR",
      "execution_count": null,
      "outputs": [
        {
          "output_type": "execute_result",
          "data": {
            "text/plain": [
              "2500"
            ]
          },
          "metadata": {},
          "execution_count": 124
        }
      ]
    },
    {
      "cell_type": "code",
      "source": [
        "acc.type"
      ],
      "metadata": {
        "colab": {
          "base_uri": "https://localhost:8080/",
          "height": 34
        },
        "id": "IOBsunjRniG4",
        "outputId": "8217675d-7f2a-419e-e62f-df521cab4f12"
      },
      "id": "IOBsunjRniG4",
      "execution_count": null,
      "outputs": [
        {
          "output_type": "execute_result",
          "data": {
            "text/plain": [
              "'saving'"
            ],
            "application/vnd.google.colaboratory.intrinsic+json": {
              "type": "string"
            }
          },
          "metadata": {},
          "execution_count": 125
        }
      ]
    },
    {
      "cell_type": "code",
      "source": [
        "acc.interest_rate()"
      ],
      "metadata": {
        "colab": {
          "base_uri": "https://localhost:8080/"
        },
        "id": "3iWKavF6ssyB",
        "outputId": "0f49fad2-c42e-4551-a00b-ced3221f9887"
      },
      "id": "3iWKavF6ssyB",
      "execution_count": null,
      "outputs": [
        {
          "output_type": "execute_result",
          "data": {
            "text/plain": [
              "5"
            ]
          },
          "metadata": {},
          "execution_count": 126
        }
      ]
    },
    {
      "cell_type": "code",
      "source": [
        "acc.interest"
      ],
      "metadata": {
        "colab": {
          "base_uri": "https://localhost:8080/"
        },
        "id": "DuixTNQLszGi",
        "outputId": "5b9bd1ff-41e4-4498-a94c-53f4a09af9eb"
      },
      "id": "DuixTNQLszGi",
      "execution_count": null,
      "outputs": [
        {
          "output_type": "execute_result",
          "data": {
            "text/plain": [
              "5"
            ]
          },
          "metadata": {},
          "execution_count": 127
        }
      ]
    },
    {
      "cell_type": "code",
      "source": [
        "acc.interest_accrued()"
      ],
      "metadata": {
        "colab": {
          "base_uri": "https://localhost:8080/"
        },
        "id": "XN4x6rpXZ_iY",
        "outputId": "2857f5e1-7d6d-4334-9a29-515dc782a28d"
      },
      "id": "XN4x6rpXZ_iY",
      "execution_count": null,
      "outputs": [
        {
          "output_type": "execute_result",
          "data": {
            "text/plain": [
              "1001.6438356164383"
            ]
          },
          "metadata": {},
          "execution_count": 128
        }
      ]
    },
    {
      "cell_type": "code",
      "source": [
        "acc.totalInterest"
      ],
      "metadata": {
        "colab": {
          "base_uri": "https://localhost:8080/"
        },
        "id": "Xz_yzz2uaNc3",
        "outputId": "5f22690d-e231-4235-a365-589041279bb5"
      },
      "id": "Xz_yzz2uaNc3",
      "execution_count": null,
      "outputs": [
        {
          "output_type": "execute_result",
          "data": {
            "text/plain": [
              "1.643835616438356"
            ]
          },
          "metadata": {},
          "execution_count": 131
        }
      ]
    },
    {
      "cell_type": "markdown",
      "source": [
        "___"
      ],
      "metadata": {
        "id": "xGp9SJDdjfjE"
      },
      "id": "xGp9SJDdjfjE"
    },
    {
      "cell_type": "markdown",
      "source": [
        "[Learning] from datetime import date"
      ],
      "metadata": {
        "id": "oa3HJ64nYGFN"
      },
      "id": "oa3HJ64nYGFN"
    },
    {
      "cell_type": "code",
      "source": [
        "from datetime import date\n",
        "\n",
        "current_date = date.today()"
      ],
      "metadata": {
        "id": "KOEPGmy6XPWZ"
      },
      "id": "KOEPGmy6XPWZ",
      "execution_count": null,
      "outputs": []
    },
    {
      "cell_type": "code",
      "source": [
        "print(current_date)\n",
        "print(type(current_date))"
      ],
      "metadata": {
        "colab": {
          "base_uri": "https://localhost:8080/"
        },
        "id": "AqU5nrFdXSno",
        "outputId": "e212bb55-5f60-4434-87e1-fb979103ec67"
      },
      "id": "AqU5nrFdXSno",
      "execution_count": null,
      "outputs": [
        {
          "output_type": "stream",
          "name": "stdout",
          "text": [
            "2024-01-13\n",
            "<class 'datetime.date'>\n"
          ]
        }
      ]
    },
    {
      "cell_type": "code",
      "source": [
        "print(current_date.year)\n",
        "print(current_date.month)\n",
        "print(current_date.day)"
      ],
      "metadata": {
        "colab": {
          "base_uri": "https://localhost:8080/"
        },
        "id": "sFTXgnPBXm3q",
        "outputId": "791224af-3e27-4950-dc7b-c0ef6fcc1d06"
      },
      "id": "sFTXgnPBXm3q",
      "execution_count": null,
      "outputs": [
        {
          "output_type": "stream",
          "name": "stdout",
          "text": [
            "2024\n",
            "1\n",
            "13\n"
          ]
        }
      ]
    },
    {
      "cell_type": "code",
      "source": [
        "beginning_date=date(current_date.year,1,1)"
      ],
      "metadata": {
        "id": "P9fQ8XUbXqhG"
      },
      "id": "P9fQ8XUbXqhG",
      "execution_count": null,
      "outputs": []
    },
    {
      "cell_type": "code",
      "source": [
        "print(beginning_date)\n",
        "print(type(beginning_date))"
      ],
      "metadata": {
        "colab": {
          "base_uri": "https://localhost:8080/"
        },
        "id": "BAuGTMYhcJVe",
        "outputId": "ec16ed57-e95d-4be1-fc18-5f359ece106b"
      },
      "id": "BAuGTMYhcJVe",
      "execution_count": null,
      "outputs": [
        {
          "output_type": "stream",
          "name": "stdout",
          "text": [
            "2024-01-01\n",
            "<class 'datetime.date'>\n"
          ]
        }
      ]
    },
    {
      "cell_type": "code",
      "source": [
        "print(abs(current_date-beginning_date).days/365)"
      ],
      "metadata": {
        "colab": {
          "base_uri": "https://localhost:8080/"
        },
        "id": "bgComRP1cOwL",
        "outputId": "0a13f295-71df-4de8-a05f-d5ad65aec5a5"
      },
      "id": "bgComRP1cOwL",
      "execution_count": null,
      "outputs": [
        {
          "output_type": "stream",
          "name": "stdout",
          "text": [
            "0.03287671232876712\n"
          ]
        }
      ]
    }
  ],
  "metadata": {
    "kernelspec": {
      "display_name": "Python 3 (ipykernel)",
      "language": "python",
      "name": "python3"
    },
    "language_info": {
      "codemirror_mode": {
        "name": "ipython",
        "version": 3
      },
      "file_extension": ".py",
      "mimetype": "text/x-python",
      "name": "python",
      "nbconvert_exporter": "python",
      "pygments_lexer": "ipython3",
      "version": "3.9.7"
    },
    "colab": {
      "provenance": []
    }
  },
  "nbformat": 4,
  "nbformat_minor": 5
}