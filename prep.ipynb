{
 "cells": [
  {
   "cell_type": "code",
   "execution_count": 1,
   "id": "8d9ed675",
   "metadata": {},
   "outputs": [
    {
     "name": "stdout",
     "output_type": "stream",
     "text": [
      "Hello, World!\n"
     ]
    }
   ],
   "source": [
    "print(\"Hello, World!\")"
   ]
  },
  {
   "cell_type": "code",
   "execution_count": 2,
   "id": "c84730e5",
   "metadata": {},
   "outputs": [
    {
     "data": {
      "text/plain": [
       "32"
      ]
     },
     "execution_count": 2,
     "metadata": {},
     "output_type": "execute_result"
    }
   ],
   "source": [
    "2**5"
   ]
  },
  {
   "cell_type": "code",
   "execution_count": 3,
   "id": "ad0516ee",
   "metadata": {},
   "outputs": [
    {
     "data": {
      "text/plain": [
       "8"
      ]
     },
     "execution_count": 3,
     "metadata": {},
     "output_type": "execute_result"
    }
   ],
   "source": [
    "2+2*3"
   ]
  },
  {
   "cell_type": "markdown",
   "id": "66946714",
   "metadata": {},
   "source": [
    "# Variables and Print"
   ]
  },
  {
   "cell_type": "markdown",
   "id": "ccc184ff",
   "metadata": {},
   "source": [
    "## Let's start!"
   ]
  },
  {
   "cell_type": "markdown",
   "id": "0756c239",
   "metadata": {},
   "source": [
    "Well"
   ]
  },
  {
   "cell_type": "code",
   "execution_count": 7,
   "id": "7ef6d4d9",
   "metadata": {},
   "outputs": [],
   "source": [
    "name = \"Sasita\"\n",
    "age = 18"
   ]
  },
  {
   "cell_type": "code",
   "execution_count": 11,
   "id": "1f7795c1",
   "metadata": {},
   "outputs": [
    {
     "name": "stdout",
     "output_type": "stream",
     "text": [
      "Hello, my name is Sasita and I am 18 years old.\n"
     ]
    }
   ],
   "source": [
    "print(\"Hello, my name is {x} and I am {y} years old.\".format(x=name, y=age))"
   ]
  },
  {
   "cell_type": "markdown",
   "id": "a4f26494",
   "metadata": {},
   "source": [
    "List and Index"
   ]
  },
  {
   "cell_type": "code",
   "execution_count": 20,
   "id": "afe0bf4a",
   "metadata": {},
   "outputs": [],
   "source": [
    "myList = ['a',2,3]"
   ]
  },
  {
   "cell_type": "code",
   "execution_count": 21,
   "id": "3e954f89",
   "metadata": {},
   "outputs": [
    {
     "data": {
      "text/plain": [
       "['a', 2, 3]"
      ]
     },
     "execution_count": 21,
     "metadata": {},
     "output_type": "execute_result"
    }
   ],
   "source": [
    "myList"
   ]
  },
  {
   "cell_type": "code",
   "execution_count": 22,
   "id": "13ec4859",
   "metadata": {},
   "outputs": [],
   "source": [
    "myList.append(4)"
   ]
  },
  {
   "cell_type": "code",
   "execution_count": 23,
   "id": "c71d5a44",
   "metadata": {},
   "outputs": [
    {
     "name": "stdout",
     "output_type": "stream",
     "text": [
      "['a', 2, 3, 4]\n"
     ]
    }
   ],
   "source": [
    "print(myList)"
   ]
  },
  {
   "cell_type": "code",
   "execution_count": 24,
   "id": "0268a876",
   "metadata": {},
   "outputs": [
    {
     "name": "stdout",
     "output_type": "stream",
     "text": [
      "None\n"
     ]
    }
   ],
   "source": [
    "print(myList.append('b'))"
   ]
  },
  {
   "cell_type": "code",
   "execution_count": 25,
   "id": "f7983b27",
   "metadata": {},
   "outputs": [
    {
     "data": {
      "text/plain": [
       "['a', 2, 3, 4, 'b']"
      ]
     },
     "execution_count": 25,
     "metadata": {},
     "output_type": "execute_result"
    }
   ],
   "source": [
    "myList"
   ]
  },
  {
   "cell_type": "code",
   "execution_count": 26,
   "id": "5d277a9b",
   "metadata": {},
   "outputs": [],
   "source": [
    "myList = ['a',1]"
   ]
  },
  {
   "cell_type": "code",
   "execution_count": 27,
   "id": "82c3bf24",
   "metadata": {},
   "outputs": [
    {
     "name": "stdout",
     "output_type": "stream",
     "text": [
      "['a', 1]\n"
     ]
    }
   ],
   "source": [
    "print(myList)"
   ]
  },
  {
   "cell_type": "code",
   "execution_count": 28,
   "id": "e69f2a25",
   "metadata": {},
   "outputs": [
    {
     "ename": "TypeError",
     "evalue": "list.append() takes exactly one argument (2 given)",
     "output_type": "error",
     "traceback": [
      "\u001b[0;31m---------------------------------------------------------------------------\u001b[0m",
      "\u001b[0;31mTypeError\u001b[0m                                 Traceback (most recent call last)",
      "\u001b[0;32m/var/folders/wc/hmn00ks51r70jctnqbv4mq8h0000gn/T/ipykernel_89505/1555760086.py\u001b[0m in \u001b[0;36m<module>\u001b[0;34m\u001b[0m\n\u001b[0;32m----> 1\u001b[0;31m \u001b[0mmyList\u001b[0m\u001b[0;34m.\u001b[0m\u001b[0mappend\u001b[0m\u001b[0;34m(\u001b[0m\u001b[0;34m'b'\u001b[0m\u001b[0;34m,\u001b[0m\u001b[0;36m2\u001b[0m\u001b[0;34m)\u001b[0m\u001b[0;34m\u001b[0m\u001b[0;34m\u001b[0m\u001b[0m\n\u001b[0m",
      "\u001b[0;31mTypeError\u001b[0m: list.append() takes exactly one argument (2 given)"
     ]
    }
   ],
   "source": [
    "myList.append('b',2)"
   ]
  },
  {
   "cell_type": "code",
   "execution_count": 29,
   "id": "ec257d14",
   "metadata": {},
   "outputs": [],
   "source": [
    "myList.append('b')"
   ]
  },
  {
   "cell_type": "code",
   "execution_count": 30,
   "id": "aa8a1c93",
   "metadata": {},
   "outputs": [
    {
     "name": "stdout",
     "output_type": "stream",
     "text": [
      "['a', 1, 'b']\n"
     ]
    }
   ],
   "source": [
    "print(myList)"
   ]
  },
  {
   "cell_type": "code",
   "execution_count": 31,
   "id": "76ef20ac",
   "metadata": {},
   "outputs": [],
   "source": [
    "myList.append(2)"
   ]
  },
  {
   "cell_type": "code",
   "execution_count": 32,
   "id": "ed4abd0e",
   "metadata": {},
   "outputs": [
    {
     "name": "stdout",
     "output_type": "stream",
     "text": [
      "['a', 1, 'b', 2]\n"
     ]
    }
   ],
   "source": [
    "print(myList)"
   ]
  },
  {
   "cell_type": "code",
   "execution_count": 33,
   "id": "8a4cd3ac",
   "metadata": {},
   "outputs": [
    {
     "name": "stdout",
     "output_type": "stream",
     "text": [
      "['a', 1, 'b', 2]\n"
     ]
    }
   ],
   "source": [
    "print(myList[0:])"
   ]
  },
  {
   "cell_type": "code",
   "execution_count": 34,
   "id": "f109cb2c",
   "metadata": {},
   "outputs": [
    {
     "name": "stdout",
     "output_type": "stream",
     "text": [
      "[1, 'b']\n"
     ]
    }
   ],
   "source": [
    "print(myList[1:3])"
   ]
  },
  {
   "cell_type": "code",
   "execution_count": 35,
   "id": "d3dc0248",
   "metadata": {},
   "outputs": [],
   "source": [
    "myList.append([3,4,5])"
   ]
  },
  {
   "cell_type": "code",
   "execution_count": 36,
   "id": "07ac4806",
   "metadata": {},
   "outputs": [
    {
     "name": "stdout",
     "output_type": "stream",
     "text": [
      "['a', 1, 'b', 2, [3, 4, 5]]\n"
     ]
    }
   ],
   "source": [
    "print(myList)"
   ]
  },
  {
   "cell_type": "code",
   "execution_count": 37,
   "id": "cb8e07a8",
   "metadata": {},
   "outputs": [
    {
     "name": "stdout",
     "output_type": "stream",
     "text": [
      "4\n"
     ]
    }
   ],
   "source": [
    "print(myList[4][1])"
   ]
  },
  {
   "cell_type": "code",
   "execution_count": 38,
   "id": "434ee058",
   "metadata": {},
   "outputs": [],
   "source": [
    "myList=['a',1]"
   ]
  },
  {
   "cell_type": "code",
   "execution_count": 39,
   "id": "2ba6e33c",
   "metadata": {},
   "outputs": [],
   "source": [
    "myList=['a',1,'b']"
   ]
  },
  {
   "cell_type": "code",
   "execution_count": 40,
   "id": "b87130b8",
   "metadata": {},
   "outputs": [],
   "source": [
    "myList.append(2)"
   ]
  },
  {
   "cell_type": "code",
   "execution_count": 41,
   "id": "50c0fc8f",
   "metadata": {},
   "outputs": [
    {
     "name": "stdout",
     "output_type": "stream",
     "text": [
      "['a', 1, 'b', 2]\n"
     ]
    }
   ],
   "source": [
    "print(myList[0:])"
   ]
  },
  {
   "cell_type": "code",
   "execution_count": 42,
   "id": "d3bbfb6d",
   "metadata": {},
   "outputs": [
    {
     "name": "stdout",
     "output_type": "stream",
     "text": [
      "2\n"
     ]
    }
   ],
   "source": [
    "print(myList[-1])"
   ]
  },
  {
   "cell_type": "code",
   "execution_count": 43,
   "id": "e91f1706",
   "metadata": {},
   "outputs": [
    {
     "name": "stdout",
     "output_type": "stream",
     "text": [
      "[1, 'b']\n"
     ]
    }
   ],
   "source": [
    "print(myList[1:3])"
   ]
  },
  {
   "cell_type": "code",
   "execution_count": 44,
   "id": "227f9e74",
   "metadata": {},
   "outputs": [],
   "source": [
    "myList.append([3,4])"
   ]
  },
  {
   "cell_type": "code",
   "execution_count": 45,
   "id": "32841a2a",
   "metadata": {},
   "outputs": [
    {
     "name": "stdout",
     "output_type": "stream",
     "text": [
      "4\n"
     ]
    }
   ],
   "source": [
    "print(myList[4][1])"
   ]
  },
  {
   "cell_type": "code",
   "execution_count": 46,
   "id": "d7cdf4e9",
   "metadata": {},
   "outputs": [
    {
     "name": "stdout",
     "output_type": "stream",
     "text": [
      "[3, 4]\n"
     ]
    }
   ],
   "source": [
    "print(myList[-1])"
   ]
  },
  {
   "cell_type": "markdown",
   "id": "eb2d7b88",
   "metadata": {},
   "source": [
    "Dictionary and Boolean"
   ]
  },
  {
   "cell_type": "code",
   "execution_count": 47,
   "id": "15c91595",
   "metadata": {},
   "outputs": [],
   "source": [
    "myDict={'key':1, 'key2':'secondItem'}"
   ]
  },
  {
   "cell_type": "code",
   "execution_count": 48,
   "id": "b1cc2bc7",
   "metadata": {},
   "outputs": [
    {
     "name": "stdout",
     "output_type": "stream",
     "text": [
      "secondItem\n"
     ]
    }
   ],
   "source": [
    "print(myDict['key2'])"
   ]
  },
  {
   "cell_type": "code",
   "execution_count": 49,
   "id": "487a5d19",
   "metadata": {},
   "outputs": [],
   "source": [
    "myValue = True"
   ]
  },
  {
   "cell_type": "code",
   "execution_count": 50,
   "id": "41dfb7f2",
   "metadata": {},
   "outputs": [
    {
     "name": "stdout",
     "output_type": "stream",
     "text": [
      "True\n"
     ]
    }
   ],
   "source": [
    "print(myValue)"
   ]
  },
  {
   "cell_type": "markdown",
   "id": "e29dc803",
   "metadata": {},
   "source": [
    "Tuple"
   ]
  },
  {
   "cell_type": "code",
   "execution_count": 51,
   "id": "7ead2847",
   "metadata": {},
   "outputs": [],
   "source": [
    "myTup = (1, 'a', 2)"
   ]
  },
  {
   "cell_type": "code",
   "execution_count": 52,
   "id": "2e4a8d5a",
   "metadata": {},
   "outputs": [
    {
     "name": "stdout",
     "output_type": "stream",
     "text": [
      "(1, 'a', 2)\n"
     ]
    }
   ],
   "source": [
    "print(myTup)"
   ]
  },
  {
   "cell_type": "code",
   "execution_count": 53,
   "id": "fccc0974",
   "metadata": {},
   "outputs": [
    {
     "name": "stdout",
     "output_type": "stream",
     "text": [
      "('a', 2)\n"
     ]
    }
   ],
   "source": [
    "print(myTup[1:])"
   ]
  },
  {
   "cell_type": "code",
   "execution_count": 54,
   "id": "712d3fe4",
   "metadata": {},
   "outputs": [
    {
     "ename": "TypeError",
     "evalue": "'tuple' object does not support item assignment",
     "output_type": "error",
     "traceback": [
      "\u001b[0;31m---------------------------------------------------------------------------\u001b[0m",
      "\u001b[0;31mTypeError\u001b[0m                                 Traceback (most recent call last)",
      "\u001b[0;32m/var/folders/wc/hmn00ks51r70jctnqbv4mq8h0000gn/T/ipykernel_89505/3899983762.py\u001b[0m in \u001b[0;36m<module>\u001b[0;34m\u001b[0m\n\u001b[0;32m----> 1\u001b[0;31m \u001b[0mmyTup\u001b[0m\u001b[0;34m[\u001b[0m\u001b[0;36m1\u001b[0m\u001b[0;34m]\u001b[0m \u001b[0;34m=\u001b[0m \u001b[0;36m0\u001b[0m\u001b[0;34m\u001b[0m\u001b[0;34m\u001b[0m\u001b[0m\n\u001b[0m",
      "\u001b[0;31mTypeError\u001b[0m: 'tuple' object does not support item assignment"
     ]
    }
   ],
   "source": [
    "myTup[1] = 0"
   ]
  },
  {
   "cell_type": "code",
   "execution_count": 55,
   "id": "460413b3",
   "metadata": {},
   "outputs": [],
   "source": [
    "myList = [1, 'a', 2]"
   ]
  },
  {
   "cell_type": "code",
   "execution_count": 56,
   "id": "bee9ffbf",
   "metadata": {},
   "outputs": [
    {
     "name": "stdout",
     "output_type": "stream",
     "text": [
      "['a', 2]\n"
     ]
    }
   ],
   "source": [
    "print(myList[1:])"
   ]
  },
  {
   "cell_type": "code",
   "execution_count": 57,
   "id": "88890950",
   "metadata": {},
   "outputs": [],
   "source": [
    "myList[1] = 0"
   ]
  },
  {
   "cell_type": "code",
   "execution_count": 58,
   "id": "31a0d91e",
   "metadata": {},
   "outputs": [
    {
     "name": "stdout",
     "output_type": "stream",
     "text": [
      "[1, 0, 2]\n"
     ]
    }
   ],
   "source": [
    "print(myList[0:])"
   ]
  },
  {
   "cell_type": "markdown",
   "id": "ce423dfd",
   "metadata": {},
   "source": [
    "__Set__"
   ]
  },
  {
   "cell_type": "code",
   "execution_count": 62,
   "id": "35167698",
   "metadata": {},
   "outputs": [],
   "source": [
    "mySet = {1,1,1,2,3,3}"
   ]
  },
  {
   "cell_type": "code",
   "execution_count": 63,
   "id": "e7182e1c",
   "metadata": {},
   "outputs": [
    {
     "name": "stdout",
     "output_type": "stream",
     "text": [
      "{1, 2, 3}\n"
     ]
    }
   ],
   "source": [
    "print(mySet)"
   ]
  },
  {
   "cell_type": "code",
   "execution_count": 64,
   "id": "4495aa68",
   "metadata": {},
   "outputs": [],
   "source": [
    "myList = [1,1,1,2,3,3]"
   ]
  },
  {
   "cell_type": "code",
   "execution_count": 65,
   "id": "f1d3fa64",
   "metadata": {},
   "outputs": [
    {
     "name": "stdout",
     "output_type": "stream",
     "text": [
      "[1, 1, 1, 2, 3, 3]\n"
     ]
    }
   ],
   "source": [
    "print(myList)"
   ]
  },
  {
   "cell_type": "code",
   "execution_count": 66,
   "id": "9f2615f8",
   "metadata": {},
   "outputs": [
    {
     "name": "stdout",
     "output_type": "stream",
     "text": [
      "{1, 2, 3}\n"
     ]
    }
   ],
   "source": [
    "print(set(myList))"
   ]
  },
  {
   "cell_type": "markdown",
   "id": "bf2e68c8",
   "metadata": {},
   "source": [
    "__Build-in Functions__"
   ]
  },
  {
   "cell_type": "code",
   "execution_count": 67,
   "id": "fe7b575f",
   "metadata": {},
   "outputs": [],
   "source": [
    "import math"
   ]
  },
  {
   "cell_type": "code",
   "execution_count": 68,
   "id": "303a26cb",
   "metadata": {},
   "outputs": [
    {
     "name": "stdout",
     "output_type": "stream",
     "text": [
      "Help on module math:\n",
      "\n",
      "NAME\n",
      "    math\n",
      "\n",
      "MODULE REFERENCE\n",
      "    https://docs.python.org/3.9/library/math\n",
      "    \n",
      "    The following documentation is automatically generated from the Python\n",
      "    source files.  It may be incomplete, incorrect or include features that\n",
      "    are considered implementation detail and may vary between Python\n",
      "    implementations.  When in doubt, consult the module reference at the\n",
      "    location listed above.\n",
      "\n",
      "DESCRIPTION\n",
      "    This module provides access to the mathematical functions\n",
      "    defined by the C standard.\n",
      "\n",
      "FUNCTIONS\n",
      "    acos(x, /)\n",
      "        Return the arc cosine (measured in radians) of x.\n",
      "        \n",
      "        The result is between 0 and pi.\n",
      "    \n",
      "    acosh(x, /)\n",
      "        Return the inverse hyperbolic cosine of x.\n",
      "    \n",
      "    asin(x, /)\n",
      "        Return the arc sine (measured in radians) of x.\n",
      "        \n",
      "        The result is between -pi/2 and pi/2.\n",
      "    \n",
      "    asinh(x, /)\n",
      "        Return the inverse hyperbolic sine of x.\n",
      "    \n",
      "    atan(x, /)\n",
      "        Return the arc tangent (measured in radians) of x.\n",
      "        \n",
      "        The result is between -pi/2 and pi/2.\n",
      "    \n",
      "    atan2(y, x, /)\n",
      "        Return the arc tangent (measured in radians) of y/x.\n",
      "        \n",
      "        Unlike atan(y/x), the signs of both x and y are considered.\n",
      "    \n",
      "    atanh(x, /)\n",
      "        Return the inverse hyperbolic tangent of x.\n",
      "    \n",
      "    ceil(x, /)\n",
      "        Return the ceiling of x as an Integral.\n",
      "        \n",
      "        This is the smallest integer >= x.\n",
      "    \n",
      "    comb(n, k, /)\n",
      "        Number of ways to choose k items from n items without repetition and without order.\n",
      "        \n",
      "        Evaluates to n! / (k! * (n - k)!) when k <= n and evaluates\n",
      "        to zero when k > n.\n",
      "        \n",
      "        Also called the binomial coefficient because it is equivalent\n",
      "        to the coefficient of k-th term in polynomial expansion of the\n",
      "        expression (1 + x)**n.\n",
      "        \n",
      "        Raises TypeError if either of the arguments are not integers.\n",
      "        Raises ValueError if either of the arguments are negative.\n",
      "    \n",
      "    copysign(x, y, /)\n",
      "        Return a float with the magnitude (absolute value) of x but the sign of y.\n",
      "        \n",
      "        On platforms that support signed zeros, copysign(1.0, -0.0)\n",
      "        returns -1.0.\n",
      "    \n",
      "    cos(x, /)\n",
      "        Return the cosine of x (measured in radians).\n",
      "    \n",
      "    cosh(x, /)\n",
      "        Return the hyperbolic cosine of x.\n",
      "    \n",
      "    degrees(x, /)\n",
      "        Convert angle x from radians to degrees.\n",
      "    \n",
      "    dist(p, q, /)\n",
      "        Return the Euclidean distance between two points p and q.\n",
      "        \n",
      "        The points should be specified as sequences (or iterables) of\n",
      "        coordinates.  Both inputs must have the same dimension.\n",
      "        \n",
      "        Roughly equivalent to:\n",
      "            sqrt(sum((px - qx) ** 2.0 for px, qx in zip(p, q)))\n",
      "    \n",
      "    erf(x, /)\n",
      "        Error function at x.\n",
      "    \n",
      "    erfc(x, /)\n",
      "        Complementary error function at x.\n",
      "    \n",
      "    exp(x, /)\n",
      "        Return e raised to the power of x.\n",
      "    \n",
      "    expm1(x, /)\n",
      "        Return exp(x)-1.\n",
      "        \n",
      "        This function avoids the loss of precision involved in the direct evaluation of exp(x)-1 for small x.\n",
      "    \n",
      "    fabs(x, /)\n",
      "        Return the absolute value of the float x.\n",
      "    \n",
      "    factorial(x, /)\n",
      "        Find x!.\n",
      "        \n",
      "        Raise a ValueError if x is negative or non-integral.\n",
      "    \n",
      "    floor(x, /)\n",
      "        Return the floor of x as an Integral.\n",
      "        \n",
      "        This is the largest integer <= x.\n",
      "    \n",
      "    fmod(x, y, /)\n",
      "        Return fmod(x, y), according to platform C.\n",
      "        \n",
      "        x % y may differ.\n",
      "    \n",
      "    frexp(x, /)\n",
      "        Return the mantissa and exponent of x, as pair (m, e).\n",
      "        \n",
      "        m is a float and e is an int, such that x = m * 2.**e.\n",
      "        If x is 0, m and e are both 0.  Else 0.5 <= abs(m) < 1.0.\n",
      "    \n",
      "    fsum(seq, /)\n",
      "        Return an accurate floating point sum of values in the iterable seq.\n",
      "        \n",
      "        Assumes IEEE-754 floating point arithmetic.\n",
      "    \n",
      "    gamma(x, /)\n",
      "        Gamma function at x.\n",
      "    \n",
      "    gcd(*integers)\n",
      "        Greatest Common Divisor.\n",
      "    \n",
      "    hypot(...)\n",
      "        hypot(*coordinates) -> value\n",
      "        \n",
      "        Multidimensional Euclidean distance from the origin to a point.\n",
      "        \n",
      "        Roughly equivalent to:\n",
      "            sqrt(sum(x**2 for x in coordinates))\n",
      "        \n",
      "        For a two dimensional point (x, y), gives the hypotenuse\n",
      "        using the Pythagorean theorem:  sqrt(x*x + y*y).\n",
      "        \n",
      "        For example, the hypotenuse of a 3/4/5 right triangle is:\n",
      "        \n",
      "            >>> hypot(3.0, 4.0)\n",
      "            5.0\n",
      "    \n",
      "    isclose(a, b, *, rel_tol=1e-09, abs_tol=0.0)\n",
      "        Determine whether two floating point numbers are close in value.\n",
      "        \n",
      "          rel_tol\n",
      "            maximum difference for being considered \"close\", relative to the\n",
      "            magnitude of the input values\n",
      "          abs_tol\n",
      "            maximum difference for being considered \"close\", regardless of the\n",
      "            magnitude of the input values\n",
      "        \n",
      "        Return True if a is close in value to b, and False otherwise.\n",
      "        \n",
      "        For the values to be considered close, the difference between them\n",
      "        must be smaller than at least one of the tolerances.\n",
      "        \n",
      "        -inf, inf and NaN behave similarly to the IEEE 754 Standard.  That\n",
      "        is, NaN is not close to anything, even itself.  inf and -inf are\n",
      "        only close to themselves.\n",
      "    \n",
      "    isfinite(x, /)\n",
      "        Return True if x is neither an infinity nor a NaN, and False otherwise.\n",
      "    \n",
      "    isinf(x, /)\n",
      "        Return True if x is a positive or negative infinity, and False otherwise.\n",
      "    \n",
      "    isnan(x, /)\n",
      "        Return True if x is a NaN (not a number), and False otherwise.\n",
      "    \n",
      "    isqrt(n, /)\n",
      "        Return the integer part of the square root of the input.\n",
      "    \n",
      "    lcm(*integers)\n",
      "        Least Common Multiple.\n",
      "    \n",
      "    ldexp(x, i, /)\n",
      "        Return x * (2**i).\n",
      "        \n",
      "        This is essentially the inverse of frexp().\n",
      "    \n",
      "    lgamma(x, /)\n",
      "        Natural logarithm of absolute value of Gamma function at x.\n",
      "    \n",
      "    log(...)\n",
      "        log(x, [base=math.e])\n",
      "        Return the logarithm of x to the given base.\n",
      "        \n",
      "        If the base not specified, returns the natural logarithm (base e) of x.\n",
      "    \n",
      "    log10(x, /)\n",
      "        Return the base 10 logarithm of x.\n",
      "    \n",
      "    log1p(x, /)\n",
      "        Return the natural logarithm of 1+x (base e).\n",
      "        \n",
      "        The result is computed in a way which is accurate for x near zero.\n",
      "    \n",
      "    log2(x, /)\n",
      "        Return the base 2 logarithm of x.\n",
      "    \n",
      "    modf(x, /)\n",
      "        Return the fractional and integer parts of x.\n",
      "        \n",
      "        Both results carry the sign of x and are floats.\n",
      "    \n",
      "    nextafter(x, y, /)\n",
      "        Return the next floating-point value after x towards y.\n",
      "    \n",
      "    perm(n, k=None, /)\n",
      "        Number of ways to choose k items from n items without repetition and with order.\n",
      "        \n",
      "        Evaluates to n! / (n - k)! when k <= n and evaluates\n",
      "        to zero when k > n.\n",
      "        \n",
      "        If k is not specified or is None, then k defaults to n\n",
      "        and the function returns n!.\n",
      "        \n",
      "        Raises TypeError if either of the arguments are not integers.\n",
      "        Raises ValueError if either of the arguments are negative.\n",
      "    \n",
      "    pow(x, y, /)\n",
      "        Return x**y (x to the power of y).\n",
      "    \n",
      "    prod(iterable, /, *, start=1)\n",
      "        Calculate the product of all the elements in the input iterable.\n",
      "        \n",
      "        The default start value for the product is 1.\n",
      "        \n",
      "        When the iterable is empty, return the start value.  This function is\n",
      "        intended specifically for use with numeric values and may reject\n",
      "        non-numeric types.\n",
      "    \n",
      "    radians(x, /)\n",
      "        Convert angle x from degrees to radians.\n",
      "    \n",
      "    remainder(x, y, /)\n",
      "        Difference between x and the closest integer multiple of y.\n",
      "        \n",
      "        Return x - n*y where n*y is the closest integer multiple of y.\n",
      "        In the case where x is exactly halfway between two multiples of\n",
      "        y, the nearest even value of n is used. The result is always exact.\n",
      "    \n",
      "    sin(x, /)\n",
      "        Return the sine of x (measured in radians).\n",
      "    \n",
      "    sinh(x, /)\n",
      "        Return the hyperbolic sine of x.\n",
      "    \n",
      "    sqrt(x, /)\n",
      "        Return the square root of x.\n",
      "    \n",
      "    tan(x, /)\n",
      "        Return the tangent of x (measured in radians).\n",
      "    \n",
      "    tanh(x, /)\n",
      "        Return the hyperbolic tangent of x.\n",
      "    \n",
      "    trunc(x, /)\n",
      "        Truncates the Real x to the nearest Integral toward 0.\n",
      "        \n",
      "        Uses the __trunc__ magic method.\n",
      "    \n",
      "    ulp(x, /)\n",
      "        Return the value of the least significant bit of the float x.\n",
      "\n",
      "DATA\n",
      "    e = 2.718281828459045\n",
      "    inf = inf\n",
      "    nan = nan\n",
      "    pi = 3.141592653589793\n",
      "    tau = 6.283185307179586\n",
      "\n",
      "FILE\n",
      "    /Users/sasitarrr/opt/anaconda3/lib/python3.9/lib-dynload/math.cpython-39-darwin.so\n",
      "\n",
      "\n"
     ]
    }
   ],
   "source": [
    "help(math)"
   ]
  },
  {
   "cell_type": "code",
   "execution_count": 75,
   "id": "9a99bf12",
   "metadata": {},
   "outputs": [
    {
     "name": "stdout",
     "output_type": "stream",
     "text": [
      "1.4142135623730951\n"
     ]
    }
   ],
   "source": [
    "print(math.sqrt(2))"
   ]
  },
  {
   "cell_type": "code",
   "execution_count": 78,
   "id": "38932783",
   "metadata": {},
   "outputs": [
    {
     "name": "stdout",
     "output_type": "stream",
     "text": [
      "0.25534192122103627\n"
     ]
    }
   ],
   "source": [
    "print(math.tan(0.25))"
   ]
  },
  {
   "cell_type": "markdown",
   "id": "4765156e",
   "metadata": {},
   "source": [
    "___"
   ]
  },
  {
   "cell_type": "markdown",
   "id": "0cedf6ff",
   "metadata": {},
   "source": [
    "__Comparison and Logical Operators__"
   ]
  },
  {
   "cell_type": "code",
   "execution_count": 79,
   "id": "b16ebb72",
   "metadata": {},
   "outputs": [
    {
     "name": "stdout",
     "output_type": "stream",
     "text": [
      "True\n"
     ]
    }
   ],
   "source": [
    "print((1==1)or(1>=2))"
   ]
  },
  {
   "cell_type": "markdown",
   "id": "aa068dca",
   "metadata": {},
   "source": [
    "__Control Flow Statements__"
   ]
  },
  {
   "cell_type": "code",
   "execution_count": 84,
   "id": "06b1fbe0",
   "metadata": {},
   "outputs": [
    {
     "name": "stdout",
     "output_type": "stream",
     "text": [
      "Statement1 is True.\n"
     ]
    }
   ],
   "source": [
    "if (1!=2):\n",
    "    print(\"Statement1 is True.\")\n",
    "elif 1==1:\n",
    "    print(\"Statement2 is True.\")\n",
    "else:\n",
    "    print(\"Both weren't True.\")"
   ]
  },
  {
   "cell_type": "markdown",
   "id": "d1720a30",
   "metadata": {},
   "source": [
    "__For Loop__"
   ]
  },
  {
   "cell_type": "code",
   "execution_count": 85,
   "id": "596c1417",
   "metadata": {},
   "outputs": [
    {
     "name": "stdout",
     "output_type": "stream",
     "text": [
      "1\n",
      "4\n",
      "9\n",
      "16\n",
      "25\n"
     ]
    }
   ],
   "source": [
    "seq = [1,2,3,4,5]\n",
    "for i in seq:\n",
    "    print(i**2)"
   ]
  },
  {
   "cell_type": "markdown",
   "id": "43b4d781",
   "metadata": {},
   "source": [
    "__While Loop__"
   ]
  },
  {
   "cell_type": "code",
   "execution_count": 6,
   "id": "fb00078f",
   "metadata": {},
   "outputs": [
    {
     "name": "stdout",
     "output_type": "stream",
     "text": [
      "currently, i is 1.\n",
      "currently, i is 2.\n",
      "currently, i is 3.\n",
      "currently, i is 4.\n"
     ]
    }
   ],
   "source": [
    "i=1\n",
    "while i<5:\n",
    "    print(\"currently, i is {}.\".format(i))\n",
    "    i += 1"
   ]
  },
  {
   "cell_type": "markdown",
   "id": "4fb4c6bd",
   "metadata": {},
   "source": [
    "__Range()__"
   ]
  },
  {
   "cell_type": "code",
   "execution_count": 7,
   "id": "2dacb142",
   "metadata": {},
   "outputs": [
    {
     "name": "stdout",
     "output_type": "stream",
     "text": [
      "range(0, 5)\n"
     ]
    }
   ],
   "source": [
    "print(range(5))"
   ]
  },
  {
   "cell_type": "code",
   "execution_count": 25,
   "id": "164b2adb",
   "metadata": {},
   "outputs": [
    {
     "name": "stdout",
     "output_type": "stream",
     "text": [
      "[0, 1, 2, 3, 4, 5, 6, 7, 8, 9, 10, 11, 12, 13, 14, 15, 16, 17, 18, 19, 20]\n"
     ]
    }
   ],
   "source": [
    "print(list(range(21)))"
   ]
  },
  {
   "cell_type": "code",
   "execution_count": 14,
   "id": "f46ea80c",
   "metadata": {},
   "outputs": [
    {
     "name": "stdout",
     "output_type": "stream",
     "text": [
      "0\n",
      "2\n",
      "4\n",
      "6\n",
      "8\n",
      "10\n"
     ]
    }
   ],
   "source": [
    "for i in range (0,11,2):\n",
    "    print(i)"
   ]
  },
  {
   "cell_type": "markdown",
   "id": "2825db37",
   "metadata": {},
   "source": [
    "__List Comprehension__"
   ]
  },
  {
   "cell_type": "code",
   "execution_count": 16,
   "id": "65119dfb",
   "metadata": {},
   "outputs": [],
   "source": [
    "out=[]\n",
    "for i in range (5):\n",
    "    out.append(i)"
   ]
  },
  {
   "cell_type": "code",
   "execution_count": 17,
   "id": "114a3181",
   "metadata": {},
   "outputs": [
    {
     "name": "stdout",
     "output_type": "stream",
     "text": [
      "[0, 1, 2, 3, 4]\n"
     ]
    }
   ],
   "source": [
    "print(out)"
   ]
  },
  {
   "cell_type": "code",
   "execution_count": 20,
   "id": "d9fd3b50",
   "metadata": {},
   "outputs": [
    {
     "name": "stdout",
     "output_type": "stream",
     "text": [
      "[0, 1, 2, 3, 4]\n"
     ]
    }
   ],
   "source": [
    "print([i for i in range(5)])"
   ]
  },
  {
   "cell_type": "code",
   "execution_count": 21,
   "id": "ef0ca5bd",
   "metadata": {},
   "outputs": [
    {
     "name": "stdout",
     "output_type": "stream",
     "text": [
      "[1, 4, 16]\n"
     ]
    }
   ],
   "source": [
    "x = [1,2,4]\n",
    "\n",
    "out=[]\n",
    "for i in x:\n",
    "    out.append(i**2)\n",
    "    \n",
    "print(out)"
   ]
  },
  {
   "cell_type": "code",
   "execution_count": 22,
   "id": "3d1056f2",
   "metadata": {},
   "outputs": [
    {
     "name": "stdout",
     "output_type": "stream",
     "text": [
      "[1, 4, 16]\n"
     ]
    }
   ],
   "source": [
    "print([i**2 for i in x ])"
   ]
  },
  {
   "cell_type": "markdown",
   "id": "72a1110e",
   "metadata": {},
   "source": [
    "__[Review]List Comprehension__"
   ]
  },
  {
   "cell_type": "code",
   "execution_count": 26,
   "id": "e6e28b2f",
   "metadata": {},
   "outputs": [],
   "source": [
    "x = [2,4,6]"
   ]
  },
  {
   "cell_type": "code",
   "execution_count": 27,
   "id": "7f56524f",
   "metadata": {},
   "outputs": [],
   "source": [
    "out = []\n",
    "for i in x:\n",
    "    out.append(i**3)"
   ]
  },
  {
   "cell_type": "code",
   "execution_count": 28,
   "id": "a6cede9a",
   "metadata": {},
   "outputs": [
    {
     "name": "stdout",
     "output_type": "stream",
     "text": [
      "[8, 64, 216]\n"
     ]
    }
   ],
   "source": [
    "print(out)"
   ]
  },
  {
   "cell_type": "code",
   "execution_count": 29,
   "id": "a126e2f8",
   "metadata": {},
   "outputs": [
    {
     "name": "stdout",
     "output_type": "stream",
     "text": [
      "[8, 64, 216]\n"
     ]
    }
   ],
   "source": [
    "print([i**3 for i in x])"
   ]
  },
  {
   "cell_type": "markdown",
   "id": "8bbdda5b",
   "metadata": {},
   "source": [
    "___"
   ]
  },
  {
   "cell_type": "markdown",
   "id": "3670ae85",
   "metadata": {},
   "source": [
    "__Function()__"
   ]
  },
  {
   "cell_type": "code",
   "execution_count": 30,
   "id": "a1a177e6",
   "metadata": {},
   "outputs": [],
   "source": [
    "def myFunc():\n",
    "    print(\"Hello\")"
   ]
  },
  {
   "cell_type": "code",
   "execution_count": 35,
   "id": "1907518e",
   "metadata": {},
   "outputs": [
    {
     "name": "stdout",
     "output_type": "stream",
     "text": [
      "Hello\n"
     ]
    }
   ],
   "source": [
    "myFunc()"
   ]
  },
  {
   "cell_type": "code",
   "execution_count": 47,
   "id": "559bae97",
   "metadata": {},
   "outputs": [],
   "source": [
    "def myFunc(param='Default'):\n",
    "    print(param)"
   ]
  },
  {
   "cell_type": "code",
   "execution_count": 48,
   "id": "077df507",
   "metadata": {},
   "outputs": [
    {
     "name": "stdout",
     "output_type": "stream",
     "text": [
      "Default\n"
     ]
    }
   ],
   "source": [
    "myFunc()"
   ]
  },
  {
   "cell_type": "code",
   "execution_count": 51,
   "id": "2f485d70",
   "metadata": {},
   "outputs": [],
   "source": [
    "def myFunc(param='Default'):\n",
    "    \"\"\"\n",
    "    DocString!\n",
    "    \"\"\"\n",
    "    print(param)"
   ]
  },
  {
   "cell_type": "code",
   "execution_count": 52,
   "id": "d043b1d7",
   "metadata": {},
   "outputs": [
    {
     "name": "stdout",
     "output_type": "stream",
     "text": [
      "Sasita\n"
     ]
    }
   ],
   "source": [
    "myFunc(\"Sasita\")"
   ]
  },
  {
   "cell_type": "code",
   "execution_count": 68,
   "id": "bfb4313c",
   "metadata": {},
   "outputs": [],
   "source": [
    "def myFunc(argument):\n",
    "    print(argument*5)\n",
    "    return argument*5"
   ]
  },
  {
   "cell_type": "code",
   "execution_count": 69,
   "id": "146e3d4d",
   "metadata": {},
   "outputs": [
    {
     "name": "stdout",
     "output_type": "stream",
     "text": [
      "25\n"
     ]
    },
    {
     "data": {
      "text/plain": [
       "25"
      ]
     },
     "execution_count": 69,
     "metadata": {},
     "output_type": "execute_result"
    }
   ],
   "source": [
    "myFunc(5)"
   ]
  },
  {
   "cell_type": "code",
   "execution_count": 70,
   "id": "7e671639",
   "metadata": {},
   "outputs": [
    {
     "name": "stdout",
     "output_type": "stream",
     "text": [
      "25\n"
     ]
    }
   ],
   "source": [
    "x=myFunc(5)"
   ]
  },
  {
   "cell_type": "code",
   "execution_count": 71,
   "id": "572042fe",
   "metadata": {},
   "outputs": [
    {
     "name": "stdout",
     "output_type": "stream",
     "text": [
      "25\n"
     ]
    }
   ],
   "source": [
    "print(x)"
   ]
  },
  {
   "cell_type": "markdown",
   "id": "9d3c5596",
   "metadata": {},
   "source": [
    "__lambda expression__"
   ]
  },
  {
   "cell_type": "code",
   "execution_count": 72,
   "id": "0e430a73",
   "metadata": {},
   "outputs": [],
   "source": [
    "def timesTwo(arg):\n",
    "    return arg*2"
   ]
  },
  {
   "cell_type": "code",
   "execution_count": 74,
   "id": "1d873fdd",
   "metadata": {},
   "outputs": [
    {
     "data": {
      "text/plain": [
       "8"
      ]
     },
     "execution_count": 74,
     "metadata": {},
     "output_type": "execute_result"
    }
   ],
   "source": [
    "timesTwo(4)"
   ]
  },
  {
   "cell_type": "code",
   "execution_count": 75,
   "id": "6e857337",
   "metadata": {},
   "outputs": [
    {
     "data": {
      "text/plain": [
       "<function __main__.<lambda>(arg)>"
      ]
     },
     "execution_count": 75,
     "metadata": {},
     "output_type": "execute_result"
    }
   ],
   "source": [
    "lambda arg:arg*2"
   ]
  },
  {
   "cell_type": "markdown",
   "id": "badefc78",
   "metadata": {},
   "source": [
    "__Map__"
   ]
  },
  {
   "cell_type": "code",
   "execution_count": 100,
   "id": "c407593f",
   "metadata": {},
   "outputs": [],
   "source": [
    "seq = [1,2,3,4]"
   ]
  },
  {
   "cell_type": "code",
   "execution_count": 77,
   "id": "bf7bb370",
   "metadata": {},
   "outputs": [],
   "source": [
    "def timesTwo(arg):\n",
    "    return arg*2"
   ]
  },
  {
   "cell_type": "code",
   "execution_count": 78,
   "id": "b851b0a1",
   "metadata": {},
   "outputs": [
    {
     "data": {
      "text/plain": [
       "<map at 0x7f96592aec10>"
      ]
     },
     "execution_count": 78,
     "metadata": {},
     "output_type": "execute_result"
    }
   ],
   "source": [
    "map(timesTwo, seq)"
   ]
  },
  {
   "cell_type": "code",
   "execution_count": 80,
   "id": "0535b7b5",
   "metadata": {},
   "outputs": [
    {
     "data": {
      "text/plain": [
       "[2, 4, 6, 8]"
      ]
     },
     "execution_count": 80,
     "metadata": {},
     "output_type": "execute_result"
    }
   ],
   "source": [
    "list(map(timesTwo, seq))"
   ]
  },
  {
   "cell_type": "code",
   "execution_count": 81,
   "id": "28e36ad1",
   "metadata": {},
   "outputs": [
    {
     "data": {
      "text/plain": [
       "[2, 4, 6, 8]"
      ]
     },
     "execution_count": 81,
     "metadata": {},
     "output_type": "execute_result"
    }
   ],
   "source": [
    "list(map(lambda arg:arg*2, seq))"
   ]
  },
  {
   "cell_type": "markdown",
   "id": "8645e4e1",
   "metadata": {},
   "source": [
    "__Filter__"
   ]
  },
  {
   "cell_type": "code",
   "execution_count": 104,
   "id": "ef3aa992",
   "metadata": {},
   "outputs": [
    {
     "data": {
      "text/plain": [
       "[2, 4]"
      ]
     },
     "execution_count": 104,
     "metadata": {},
     "output_type": "execute_result"
    }
   ],
   "source": [
    "list(filter(lambda arg:arg%2==0, seq))"
   ]
  },
  {
   "cell_type": "code",
   "execution_count": 101,
   "id": "dcd9c4a9",
   "metadata": {},
   "outputs": [],
   "source": [
    "def isEven(arg):\n",
    "    return arg%2==0"
   ]
  },
  {
   "cell_type": "code",
   "execution_count": 102,
   "id": "6f50dbe6",
   "metadata": {},
   "outputs": [
    {
     "data": {
      "text/plain": [
       "<filter at 0x7f96592ae640>"
      ]
     },
     "execution_count": 102,
     "metadata": {},
     "output_type": "execute_result"
    }
   ],
   "source": [
    "filter(isEven, seq)"
   ]
  },
  {
   "cell_type": "code",
   "execution_count": 103,
   "id": "b0c63a00",
   "metadata": {},
   "outputs": [
    {
     "data": {
      "text/plain": [
       "[2, 4]"
      ]
     },
     "execution_count": 103,
     "metadata": {},
     "output_type": "execute_result"
    }
   ],
   "source": [
    "list(filter(isEven, seq))"
   ]
  },
  {
   "cell_type": "markdown",
   "id": "f9598116",
   "metadata": {},
   "source": [
    "__Review__"
   ]
  },
  {
   "cell_type": "code",
   "execution_count": 105,
   "id": "40872935",
   "metadata": {},
   "outputs": [],
   "source": [
    "out=[]\n",
    "for i in seq:\n",
    "    out.append(isEven(i))"
   ]
  },
  {
   "cell_type": "code",
   "execution_count": 106,
   "id": "523adf23",
   "metadata": {},
   "outputs": [
    {
     "name": "stdout",
     "output_type": "stream",
     "text": [
      "[False, True, False, True]\n"
     ]
    }
   ],
   "source": [
    "print(out)"
   ]
  },
  {
   "cell_type": "code",
   "execution_count": 98,
   "id": "6e9bd391",
   "metadata": {},
   "outputs": [],
   "source": [
    "out=[]\n",
    "for i in seq:\n",
    "    out.append(timesTwo(i))"
   ]
  },
  {
   "cell_type": "code",
   "execution_count": 99,
   "id": "87c9a413",
   "metadata": {},
   "outputs": [
    {
     "name": "stdout",
     "output_type": "stream",
     "text": [
      "[2, 4, 6, 8]\n"
     ]
    }
   ],
   "source": [
    "print(out)"
   ]
  },
  {
   "cell_type": "markdown",
   "id": "f378bef5",
   "metadata": {},
   "source": [
    "__Useful Methods__"
   ]
  },
  {
   "cell_type": "code",
   "execution_count": 107,
   "id": "b9b01df2",
   "metadata": {},
   "outputs": [],
   "source": [
    "st='Hello, my name is Sasita'"
   ]
  },
  {
   "cell_type": "code",
   "execution_count": 108,
   "id": "cf6f1df9",
   "metadata": {},
   "outputs": [
    {
     "data": {
      "text/plain": [
       "'hello, my name is sasita'"
      ]
     },
     "execution_count": 108,
     "metadata": {},
     "output_type": "execute_result"
    }
   ],
   "source": [
    "st.lower()"
   ]
  },
  {
   "cell_type": "code",
   "execution_count": 110,
   "id": "b150e95b",
   "metadata": {},
   "outputs": [
    {
     "data": {
      "text/plain": [
       "'HELLO, MY NAME IS SASITA'"
      ]
     },
     "execution_count": 110,
     "metadata": {},
     "output_type": "execute_result"
    }
   ],
   "source": [
    "st.upper()"
   ]
  },
  {
   "cell_type": "code",
   "execution_count": 111,
   "id": "05df4a56",
   "metadata": {},
   "outputs": [
    {
     "data": {
      "text/plain": [
       "['Hello,', 'my', 'name', 'is', 'Sasita']"
      ]
     },
     "execution_count": 111,
     "metadata": {},
     "output_type": "execute_result"
    }
   ],
   "source": [
    "st.split()"
   ]
  },
  {
   "cell_type": "code",
   "execution_count": 112,
   "id": "6da0d6a0",
   "metadata": {},
   "outputs": [
    {
     "data": {
      "text/plain": [
       "['H', 'llo, my nam', ' is Sasita']"
      ]
     },
     "execution_count": 112,
     "metadata": {},
     "output_type": "execute_result"
    }
   ],
   "source": [
    "st.split('e')"
   ]
  },
  {
   "cell_type": "markdown",
   "id": "9e2a836e",
   "metadata": {},
   "source": [
    "___"
   ]
  },
  {
   "cell_type": "code",
   "execution_count": 113,
   "id": "9bd971a3",
   "metadata": {},
   "outputs": [],
   "source": [
    "myList=[1,2,'a']"
   ]
  },
  {
   "cell_type": "code",
   "execution_count": 114,
   "id": "5241b248",
   "metadata": {},
   "outputs": [],
   "source": [
    "myList.append(4)"
   ]
  },
  {
   "cell_type": "code",
   "execution_count": 115,
   "id": "0a52e7d0",
   "metadata": {},
   "outputs": [
    {
     "name": "stdout",
     "output_type": "stream",
     "text": [
      "[1, 2, 'a', 4]\n"
     ]
    }
   ],
   "source": [
    "print(myList)"
   ]
  },
  {
   "cell_type": "code",
   "execution_count": 116,
   "id": "62c0bb2e",
   "metadata": {},
   "outputs": [
    {
     "data": {
      "text/plain": [
       "4"
      ]
     },
     "execution_count": 116,
     "metadata": {},
     "output_type": "execute_result"
    }
   ],
   "source": [
    "myList.pop()"
   ]
  },
  {
   "cell_type": "code",
   "execution_count": 117,
   "id": "a287bcd7",
   "metadata": {},
   "outputs": [
    {
     "ename": "TypeError",
     "evalue": "'str' object cannot be interpreted as an integer",
     "output_type": "error",
     "traceback": [
      "\u001b[0;31m---------------------------------------------------------------------------\u001b[0m",
      "\u001b[0;31mTypeError\u001b[0m                                 Traceback (most recent call last)",
      "\u001b[0;32m/var/folders/wc/hmn00ks51r70jctnqbv4mq8h0000gn/T/ipykernel_90724/2504355941.py\u001b[0m in \u001b[0;36m<module>\u001b[0;34m\u001b[0m\n\u001b[0;32m----> 1\u001b[0;31m \u001b[0mmyList\u001b[0m\u001b[0;34m.\u001b[0m\u001b[0mpop\u001b[0m\u001b[0;34m(\u001b[0m\u001b[0;34m'a'\u001b[0m\u001b[0;34m)\u001b[0m\u001b[0;34m\u001b[0m\u001b[0;34m\u001b[0m\u001b[0m\n\u001b[0m",
      "\u001b[0;31mTypeError\u001b[0m: 'str' object cannot be interpreted as an integer"
     ]
    }
   ],
   "source": [
    "myList.pop('a')"
   ]
  },
  {
   "cell_type": "code",
   "execution_count": 118,
   "id": "dd5b63f1",
   "metadata": {},
   "outputs": [
    {
     "data": {
      "text/plain": [
       "2"
      ]
     },
     "execution_count": 118,
     "metadata": {},
     "output_type": "execute_result"
    }
   ],
   "source": [
    "myList.pop(1)"
   ]
  },
  {
   "cell_type": "code",
   "execution_count": 119,
   "id": "b429f242",
   "metadata": {},
   "outputs": [
    {
     "ename": "IndexError",
     "evalue": "pop index out of range",
     "output_type": "error",
     "traceback": [
      "\u001b[0;31m---------------------------------------------------------------------------\u001b[0m",
      "\u001b[0;31mIndexError\u001b[0m                                Traceback (most recent call last)",
      "\u001b[0;32m/var/folders/wc/hmn00ks51r70jctnqbv4mq8h0000gn/T/ipykernel_90724/2474962904.py\u001b[0m in \u001b[0;36m<module>\u001b[0;34m\u001b[0m\n\u001b[0;32m----> 1\u001b[0;31m \u001b[0mmyList\u001b[0m\u001b[0;34m.\u001b[0m\u001b[0mpop\u001b[0m\u001b[0;34m(\u001b[0m\u001b[0;36m2\u001b[0m\u001b[0;34m)\u001b[0m\u001b[0;34m\u001b[0m\u001b[0;34m\u001b[0m\u001b[0m\n\u001b[0m",
      "\u001b[0;31mIndexError\u001b[0m: pop index out of range"
     ]
    }
   ],
   "source": [
    "myList.pop(2)"
   ]
  },
  {
   "cell_type": "code",
   "execution_count": 120,
   "id": "a7828933",
   "metadata": {},
   "outputs": [
    {
     "data": {
      "text/plain": [
       "'a'"
      ]
     },
     "execution_count": 120,
     "metadata": {},
     "output_type": "execute_result"
    }
   ],
   "source": [
    "myList.pop(1)"
   ]
  },
  {
   "cell_type": "code",
   "execution_count": 121,
   "id": "23c51c73",
   "metadata": {},
   "outputs": [
    {
     "name": "stdout",
     "output_type": "stream",
     "text": [
      "[1]\n"
     ]
    }
   ],
   "source": [
    "print(myList)"
   ]
  },
  {
   "cell_type": "code",
   "execution_count": 122,
   "id": "5896ef9f",
   "metadata": {},
   "outputs": [
    {
     "data": {
      "text/plain": [
       "True"
      ]
     },
     "execution_count": 122,
     "metadata": {},
     "output_type": "execute_result"
    }
   ],
   "source": [
    "1 in myList"
   ]
  },
  {
   "cell_type": "code",
   "execution_count": 123,
   "id": "5def0fc5",
   "metadata": {},
   "outputs": [
    {
     "data": {
      "text/plain": [
       "False"
      ]
     },
     "execution_count": 123,
     "metadata": {},
     "output_type": "execute_result"
    }
   ],
   "source": [
    "'a' in myList"
   ]
  },
  {
   "cell_type": "markdown",
   "id": "1dfb19dc",
   "metadata": {},
   "source": [
    "___"
   ]
  },
  {
   "cell_type": "code",
   "execution_count": 124,
   "id": "f98e60ba",
   "metadata": {},
   "outputs": [],
   "source": [
    "myDict={'key1':1,'key2':'second'}"
   ]
  },
  {
   "cell_type": "code",
   "execution_count": 125,
   "id": "21d09c50",
   "metadata": {},
   "outputs": [
    {
     "data": {
      "text/plain": [
       "dict_keys(['key1', 'key2'])"
      ]
     },
     "execution_count": 125,
     "metadata": {},
     "output_type": "execute_result"
    }
   ],
   "source": [
    "myDict.keys()"
   ]
  },
  {
   "cell_type": "code",
   "execution_count": 126,
   "id": "789c2a4d",
   "metadata": {},
   "outputs": [
    {
     "data": {
      "text/plain": [
       "<function dict.items>"
      ]
     },
     "execution_count": 126,
     "metadata": {},
     "output_type": "execute_result"
    }
   ],
   "source": [
    "myDict.items"
   ]
  },
  {
   "cell_type": "code",
   "execution_count": 127,
   "id": "7ceeb53b",
   "metadata": {},
   "outputs": [
    {
     "data": {
      "text/plain": [
       "dict_items([('key1', 1), ('key2', 'second')])"
      ]
     },
     "execution_count": 127,
     "metadata": {},
     "output_type": "execute_result"
    }
   ],
   "source": [
    "myDict.items()"
   ]
  },
  {
   "cell_type": "markdown",
   "id": "e4406817",
   "metadata": {},
   "source": [
    "___"
   ]
  },
  {
   "cell_type": "code",
   "execution_count": null,
   "id": "28ce2e5b",
   "metadata": {},
   "outputs": [],
   "source": []
  }
 ],
 "metadata": {
  "kernelspec": {
   "display_name": "Python 3 (ipykernel)",
   "language": "python",
   "name": "python3"
  },
  "language_info": {
   "codemirror_mode": {
    "name": "ipython",
    "version": 3
   },
   "file_extension": ".py",
   "mimetype": "text/x-python",
   "name": "python",
   "nbconvert_exporter": "python",
   "pygments_lexer": "ipython3",
   "version": "3.9.7"
  }
 },
 "nbformat": 4,
 "nbformat_minor": 5
}
